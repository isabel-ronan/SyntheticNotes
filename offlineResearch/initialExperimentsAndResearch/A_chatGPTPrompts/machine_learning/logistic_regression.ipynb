{
 "cells": [
  {
   "cell_type": "markdown",
   "metadata": {},
   "source": [
    "based on https://www.datacamp.com/tutorial/text-classification-python"
   ]
  },
  {
   "cell_type": "markdown",
   "metadata": {},
   "source": [
    "# Prepare Data"
   ]
  },
  {
   "cell_type": "code",
   "execution_count": 1,
   "metadata": {},
   "outputs": [],
   "source": [
    "import pandas as pd\n",
    "import os\n",
    "import re\n",
    "from nltk.corpus import stopwords\n",
    "from nltk.stem import WordNetLemmatizer\n",
    "from sklearn.model_selection import train_test_split\n",
    "from sklearn.feature_extraction.text import CountVectorizer\n",
    "import matplotlib.pyplot as plt"
   ]
  },
  {
   "cell_type": "code",
   "execution_count": 2,
   "metadata": {},
   "outputs": [],
   "source": [
    "unmet_list = []\n",
    "met_list = []\n",
    "for file in os.listdir('./data/'):\n",
    "    data = pd.read_csv('./data/'+ file)\n",
    "    if file.endswith(\"_unmetNeeds.csv\"):\n",
    "\n",
    "        for i in range(len(data['Notes'])):\n",
    "            unmet_list.append([data['Role'][i], data['Notes'][i]])\n",
    "\n",
    "    elif file.endswith(\"_metNeeds.csv\"):\n",
    "        for i in range(len(data['Notes'])):\n",
    "            met_list.append([data['Role'][i], data['Notes'][i]])\n",
    "    \n",
    "unmet_df = pd.DataFrame(unmet_list, columns=['Role', 'Notes'])\n",
    "met_df = pd.DataFrame(met_list, columns=['Role', 'Notes'])     \n",
    "\n",
    "                "
   ]
  },
  {
   "cell_type": "code",
   "execution_count": null,
   "metadata": {},
   "outputs": [],
   "source": [
    "\n"
   ]
  },
  {
   "cell_type": "code",
   "execution_count": 3,
   "metadata": {},
   "outputs": [
    {
     "name": "stdout",
     "output_type": "stream",
     "text": [
      "      Role                                              Notes\n",
      "0    Nurse  appeared comfortable morning. vital sign stabl...\n",
      "1    Carer  participated group activity creating greeting ...\n",
      "2    Nurse  reported experiencing occasional fatigue decre...\n",
      "3    Carer  seemed withdrawn one-on-one activity time. off...\n",
      "4    Nurse  expressed feeling anxiety upcoming medical pro...\n",
      "..     ...                                                ...\n",
      "195  Carer  participated minimally social activity today. ...\n",
      "196  Nurse  appeared comfortable pain-free morning. vital ...\n",
      "197  Carer  enjoyed looking gardening catalogue discussing...\n",
      "198  Nurse  slept peacefully throughout night. vital sign ...\n",
      "199  Carer  seemed content listening nature documentary ca...\n",
      "\n",
      "[200 rows x 2 columns]\n"
     ]
    }
   ],
   "source": [
    "def word_cleaner(dataframe):\n",
    "    lemmatizer = WordNetLemmatizer()\n",
    "    corpus = [] \n",
    "    for i in range(len(dataframe)):\n",
    "        r = re.sub('^a-zA-Z', ' ', dataframe['Notes'][i])\n",
    "        r = r.lower()\n",
    "        r = r.split()\n",
    "        r = [word for word in r if word not in stopwords.words('english')]\n",
    "        r = [lemmatizer.lemmatize(word) for word in r]\n",
    "        r = ' '.join(r)\n",
    "        corpus.append(r)\n",
    "\n",
    "    dataframe['Notes'] = corpus\n",
    "    return dataframe\n",
    "\n",
    "met_df = word_cleaner(met_df)\n",
    "unmet_df = word_cleaner(unmet_df)\n",
    "\n",
    "print(met_df)\n"
   ]
  },
  {
   "cell_type": "code",
   "execution_count": 4,
   "metadata": {},
   "outputs": [
    {
     "name": "stdout",
     "output_type": "stream",
     "text": [
      "      Role                                              Notes Needs\n",
      "0    Nurse  appeared comfortable morning. vital sign stabl...   met\n",
      "1    Carer  participated group activity creating greeting ...   met\n",
      "2    Nurse  reported experiencing occasional fatigue decre...   met\n",
      "3    Carer  seemed withdrawn one-on-one activity time. off...   met\n",
      "4    Nurse  expressed feeling anxiety upcoming medical pro...   met\n",
      "..     ...                                                ...   ...\n",
      "195  Carer  participated minimally social activity today. ...   met\n",
      "196  Nurse  appeared comfortable pain-free morning. vital ...   met\n",
      "197  Carer  enjoyed looking gardening catalogue discussing...   met\n",
      "198  Nurse  slept peacefully throughout night. vital sign ...   met\n",
      "199  Carer  seemed content listening nature documentary ca...   met\n",
      "\n",
      "[200 rows x 3 columns]\n"
     ]
    }
   ],
   "source": [
    "met_list = []\n",
    "for _ in range(len(met_df)):\n",
    "    met_list.append('met')\n",
    "met_df['Needs'] = met_list\n",
    "print(met_df)"
   ]
  },
  {
   "cell_type": "code",
   "execution_count": 5,
   "metadata": {},
   "outputs": [
    {
     "name": "stdout",
     "output_type": "stream",
     "text": [
      "      Role                                              Notes  Needs\n",
      "0    Nurse  resident awake vital sign stable. offered brea...  unmet\n",
      "1    Carer  assisted resident walking activity time. resid...  unmet\n",
      "2    Nurse  resident slept night. appetite decreased ate 2...  unmet\n",
      "3    Carer  resident declined participation group activiti...  unmet\n",
      "4    Nurse  resident appeared withdrawn morning care. vita...  unmet\n",
      "..     ...                                                ...    ...\n",
      "195  Carer  seemed withdrawn today. offered familiar comfo...  unmet\n",
      "196  Nurse  appeared le talkative morning. vital sign rema...  unmet\n",
      "197  Carer  participated minimally social activities. offe...  unmet\n",
      "198  Nurse  reported experiencing occasional difficulty co...  unmet\n",
      "199  Carer  seemed withdrawn today. offered quiet companio...  unmet\n",
      "\n",
      "[200 rows x 3 columns]\n"
     ]
    }
   ],
   "source": [
    "unmet_list = []\n",
    "for _ in range(len(unmet_df)):\n",
    "    unmet_list.append('unmet')\n",
    "unmet_df['Needs'] = unmet_list\n",
    "print(unmet_df)"
   ]
  },
  {
   "cell_type": "code",
   "execution_count": 6,
   "metadata": {},
   "outputs": [],
   "source": [
    "all_data_df = pd.concat([unmet_df, met_df], axis=0)"
   ]
  },
  {
   "cell_type": "code",
   "execution_count": 7,
   "metadata": {},
   "outputs": [],
   "source": [
    "all_data_df = all_data_df.reset_index()"
   ]
  },
  {
   "cell_type": "code",
   "execution_count": 8,
   "metadata": {},
   "outputs": [
    {
     "name": "stdout",
     "output_type": "stream",
     "text": [
      "                                                 Notes  Needs\n",
      "0    resident awake vital sign stable. offered brea...  unmet\n",
      "1    assisted resident walking activity time. resid...  unmet\n",
      "2    resident slept night. appetite decreased ate 2...  unmet\n",
      "3    resident declined participation group activiti...  unmet\n",
      "4    resident appeared withdrawn morning care. vita...  unmet\n",
      "..                                                 ...    ...\n",
      "395  participated minimally social activity today. ...    met\n",
      "396  appeared comfortable pain-free morning. vital ...    met\n",
      "397  enjoyed looking gardening catalogue discussing...    met\n",
      "398  slept peacefully throughout night. vital sign ...    met\n",
      "399  seemed content listening nature documentary ca...    met\n",
      "\n",
      "[400 rows x 2 columns]\n"
     ]
    }
   ],
   "source": [
    "print(all_data_df.drop(['index', 'Role'], axis=1))"
   ]
  },
  {
   "cell_type": "code",
   "execution_count": 9,
   "metadata": {},
   "outputs": [
    {
     "name": "stdout",
     "output_type": "stream",
     "text": [
      "Training data: (268,)\n",
      "Test data: (132,)\n"
     ]
    }
   ],
   "source": [
    "X = all_data_df['Notes']\n",
    "y = all_data_df['Needs']\n",
    "X_train, X_test, y_train, y_test = train_test_split(X, y, test_size=0.33, random_state=123)\n",
    "\n",
    "print('Training data:', X_train.shape)\n",
    "print('Test data:', X_test.shape)"
   ]
  },
  {
   "cell_type": "code",
   "execution_count": 10,
   "metadata": {},
   "outputs": [
    {
     "data": {
      "text/plain": [
       "(268, 978)"
      ]
     },
     "execution_count": 10,
     "metadata": {},
     "output_type": "execute_result"
    }
   ],
   "source": [
    "cv = CountVectorizer()\n",
    "X_train_cv = cv.fit_transform(X_train)\n",
    "X_train_cv.shape"
   ]
  },
  {
   "cell_type": "markdown",
   "metadata": {},
   "source": [
    "# Model Training and Evaluation"
   ]
  },
  {
   "cell_type": "code",
   "execution_count": 11,
   "metadata": {},
   "outputs": [
    {
     "data": {
      "text/plain": [
       "array(['met', 'unmet', 'met', 'unmet', 'unmet', 'met', 'met', 'met',\n",
       "       'met', 'unmet', 'unmet', 'met', 'met', 'unmet', 'unmet', 'met',\n",
       "       'unmet', 'unmet', 'unmet', 'unmet', 'unmet', 'met', 'unmet', 'met',\n",
       "       'unmet', 'unmet', 'unmet', 'met', 'met', 'met', 'unmet', 'unmet',\n",
       "       'met', 'unmet', 'met', 'met', 'met', 'met', 'unmet', 'met', 'met',\n",
       "       'met', 'met', 'unmet', 'met', 'unmet', 'met', 'met', 'met', 'met',\n",
       "       'unmet', 'unmet', 'met', 'met', 'met', 'unmet', 'unmet', 'met',\n",
       "       'unmet', 'unmet', 'unmet', 'unmet', 'unmet', 'met', 'met', 'met',\n",
       "       'unmet', 'met', 'unmet', 'unmet', 'unmet', 'met', 'met', 'unmet',\n",
       "       'met', 'unmet', 'met', 'met', 'unmet', 'met', 'unmet', 'met',\n",
       "       'unmet', 'met', 'unmet', 'met', 'met', 'met', 'unmet', 'unmet',\n",
       "       'met', 'met', 'met', 'met', 'unmet', 'met', 'met', 'met', 'unmet',\n",
       "       'unmet', 'unmet', 'met', 'unmet', 'unmet', 'unmet', 'met', 'met',\n",
       "       'unmet', 'unmet', 'met', 'unmet', 'unmet', 'unmet', 'unmet', 'met',\n",
       "       'unmet', 'met', 'unmet', 'met', 'unmet', 'unmet', 'unmet', 'unmet',\n",
       "       'met', 'met', 'unmet', 'unmet', 'unmet', 'met', 'met', 'unmet',\n",
       "       'met'], dtype=object)"
      ]
     },
     "execution_count": 11,
     "metadata": {},
     "output_type": "execute_result"
    }
   ],
   "source": [
    "from sklearn.linear_model import LogisticRegression\n",
    "\n",
    "lr = LogisticRegression()\n",
    "lr.fit(X_train_cv, y_train)\n",
    "\n",
    "# transform X_test using CV\n",
    "X_test_cv = cv.transform(X_test)\n",
    "\n",
    "# generate predictions\n",
    "predictions = lr.predict(X_test_cv)\n",
    "\n",
    "predictions\n"
   ]
  },
  {
   "cell_type": "code",
   "execution_count": 15,
   "metadata": {},
   "outputs": [
    {
     "data": {
      "text/html": [
       "<div>\n",
       "<style scoped>\n",
       "    .dataframe tbody tr th:only-of-type {\n",
       "        vertical-align: middle;\n",
       "    }\n",
       "\n",
       "    .dataframe tbody tr th {\n",
       "        vertical-align: top;\n",
       "    }\n",
       "\n",
       "    .dataframe thead th {\n",
       "        text-align: right;\n",
       "    }\n",
       "</style>\n",
       "<table border=\"1\" class=\"dataframe\">\n",
       "  <thead>\n",
       "    <tr style=\"text-align: right;\">\n",
       "      <th></th>\n",
       "      <th>met</th>\n",
       "      <th>unmet</th>\n",
       "    </tr>\n",
       "  </thead>\n",
       "  <tbody>\n",
       "    <tr>\n",
       "      <th>met</th>\n",
       "      <td>63</td>\n",
       "      <td>1</td>\n",
       "    </tr>\n",
       "    <tr>\n",
       "      <th>unmet</th>\n",
       "      <td>3</td>\n",
       "      <td>65</td>\n",
       "    </tr>\n",
       "  </tbody>\n",
       "</table>\n",
       "</div>"
      ],
      "text/plain": [
       "       met  unmet\n",
       "met     63      1\n",
       "unmet    3     65"
      ]
     },
     "execution_count": 15,
     "metadata": {},
     "output_type": "execute_result"
    }
   ],
   "source": [
    "import pandas as pd\n",
    "from sklearn import metrics\n",
    "df = pd.DataFrame(metrics.confusion_matrix(y_test, predictions), index=['met', 'unmet'], columns=['met', 'unmet'])\n",
    "df"
   ]
  },
  {
   "cell_type": "code",
   "execution_count": 16,
   "metadata": {},
   "outputs": [
    {
     "data": {
      "image/png": "[encoded data removed]",
      "text/plain": [
       "<Figure size 640x480 with 2 Axes>"
      ]
     },
     "metadata": {},
     "output_type": "display_data"
    }
   ],
   "source": [
    "confusion_matrix = metrics.confusion_matrix(y_test, predictions)\n",
    "cm_display = metrics.ConfusionMatrixDisplay(confusion_matrix=confusion_matrix, display_labels=['Met', 'Unmet'])\n",
    "cm_display.plot()\n",
    "plt.show()"
   ]
  },
  {
   "cell_type": "code",
   "execution_count": 17,
   "metadata": {},
   "outputs": [
    {
     "data": {
      "text/plain": [
       "array(['unmet', 'unmet', 'unmet', 'unmet', 'unmet'], dtype=object)"
      ]
     },
     "execution_count": 17,
     "metadata": {},
     "output_type": "execute_result"
    }
   ],
   "source": [
    "validation_df = pd.read_csv('./validation.csv')\n",
    "validation_df = cv.transform(validation_df)\n",
    "test_prediction = lr.predict(validation_df)\n",
    "test_prediction"
   ]
  },
  {
   "cell_type": "code",
   "execution_count": null,
   "metadata": {},
   "outputs": [],
   "source": []
  }
 ],
 "metadata": {
  "kernelspec": {
   "display_name": "nlp",
   "language": "python",
   "name": "python3"
  },
  "language_info": {
   "codemirror_mode": {
    "name": "ipython",
    "version": 3
   },
   "file_extension": ".py",
   "mimetype": "text/x-python",
   "name": "python",
   "nbconvert_exporter": "python",
   "pygments_lexer": "ipython3",
   "version": "3.12.2"
  }
 },
 "nbformat": 4,
 "nbformat_minor": 2
}
