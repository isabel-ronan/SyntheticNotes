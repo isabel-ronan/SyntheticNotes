{
 "cells": [
  {
   "cell_type": "code",
   "execution_count": 1,
   "id": "20e4b6b3-22b9-40db-a764-d3bc7989e187",
   "metadata": {},
   "outputs": [],
   "source": [
    "import yake\n",
    "import pandas as pd"
   ]
  },
  {
   "cell_type": "code",
   "execution_count": 17,
   "id": "58ac4959-4e0d-4d59-8f6d-aa3e73a32610",
   "metadata": {},
   "outputs": [],
   "source": [
    "data = pd.read_csv(\"nursing_home_data.csv\")"
   ]
  },
  {
   "cell_type": "code",
   "execution_count": 19,
   "id": "c7bc6000-7cd2-4232-b968-6ee2e5de28ac",
   "metadata": {},
   "outputs": [],
   "source": [
    "# get all nurse notes data\n",
    "nurse_notes = \"\"\n",
    "carer_notes = \"\"\n",
    "for i in range(len(data['Nurse Notes'])):\n",
    "    nurse_notes += data['Nurse Notes'][i]\n",
    "    carer_notes += data['Carer Notes'][i]"
   ]
  },
  {
   "cell_type": "code",
   "execution_count": 26,
   "id": "82d2a874-94f2-4610-a68b-502d2754d51d",
   "metadata": {},
   "outputs": [],
   "source": [
    "# perform keyword extraction\n",
    "language = \"en\"\n",
    "max_ngram_size = 1\n",
    "deduplication_threshold = 0.9\n",
    "numOfKeywords = 20\n",
    "custom_kw_extractor = yake.KeywordExtractor(lan=language, n = max_ngram_size, dedupLim = deduplication_threshold, top=numOfKeywords, features = None)"
   ]
  },
  {
   "cell_type": "code",
   "execution_count": 27,
   "id": "9bd9e24a-1ab5-4ed0-9cce-671edd729b2d",
   "metadata": {},
   "outputs": [
    {
     "name": "stdout",
     "output_type": "stream",
     "text": [
      "('exercises', 0.0343230046422652)\n",
      "('session', 0.04115319724439992)\n",
      "('participated', 0.04555922134600492)\n",
      "('Murphy', 0.06892788021337384)\n",
      "('Sarah', 0.0747710709024949)\n",
      "('Walsh', 0.079921656497898)\n",
      "('Hassan', 0.08231613909410987)\n",
      "('therapy', 0.08424410231392376)\n",
      "('Aisha', 0.11454354370141345)\n",
      "('neutral.Assisted', 0.14484837387456348)\n",
      "('music', 0.14872817204308164)\n",
      "(\"O'Connor\", 0.15589610913443605)\n",
      "(\"O'Sullivan\", 0.15775951576901182)\n",
      "('breakfast', 0.1658860943366622)\n",
      "('Eamon', 0.18934269490763267)\n",
      "('positive.Assisted', 0.2184171337086201)\n",
      "('negative.Assisted', 0.23450017607375834)\n",
      "('Assisted', 0.32185401308853334)\n",
      "('negative.David', 0.3560254918030026)\n",
      "('positive.Caoimhe', 0.3597790663158056)\n"
     ]
    }
   ],
   "source": [
    "nurse_keywords = custom_kw_extractor.extract_keywords(nurse_notes)\n",
    "for kw in nurse_keywords:\n",
    "    print(kw)"
   ]
  },
  {
   "cell_type": "code",
   "execution_count": 28,
   "id": "9b4140c4-2797-4ace-81d8-1df402edfd24",
   "metadata": {},
   "outputs": [
    {
     "name": "stdout",
     "output_type": "stream",
     "text": [
      "('talking', 0.003602944800301788)\n",
      "('time', 0.004954320622835596)\n",
      "('family', 0.0070137327110437134)\n",
      "('Murphy', 0.008424068053428628)\n",
      "('David', 0.008424068053428628)\n",
      "('Walsh', 0.008424068053428628)\n",
      "('Caoimhe', 0.008424068053428628)\n",
      "('Aisha', 0.008424068053428628)\n",
      "('Hassan', 0.008424068053428628)\n",
      "('Sarah', 0.008942693425785476)\n",
      "('visit.Spent', 0.009151618370027368)\n",
      "('Eamon', 0.00946510985344223)\n",
      "(\"O'Connor\", 0.017632474934663675)\n",
      "(\"O'Sullivan\", 0.017632474934663675)\n",
      "('upcoming', 0.025852247100692248)\n",
      "('exercises.Helped', 0.027956499480334716)\n",
      "('exercises.Spent', 0.03969646883805295)\n",
      "('surgery.Helped', 0.03969646883805295)\n",
      "('Helped', 0.08206624380564723)\n",
      "('visit', 0.08206624380564723)\n"
     ]
    }
   ],
   "source": [
    "carer_keywords = custom_kw_extractor.extract_keywords(carer_notes)\n",
    "for kw in carer_keywords:\n",
    "    print(kw)"
   ]
  },
  {
   "cell_type": "code",
   "execution_count": null,
   "id": "da61c871-55a1-429f-8d25-16f5e3177c21",
   "metadata": {},
   "outputs": [],
   "source": []
  },
  {
   "cell_type": "code",
   "execution_count": null,
   "id": "928b6606-d413-476c-b4de-89a1d174185f",
   "metadata": {},
   "outputs": [],
   "source": []
  }
 ],
 "metadata": {
  "kernelspec": {
   "display_name": "Python 3 (ipykernel)",
   "language": "python",
   "name": "python3"
  },
  "language_info": {
   "codemirror_mode": {
    "name": "ipython",
    "version": 3
   },
   "file_extension": ".py",
   "mimetype": "text/x-python",
   "name": "python",
   "nbconvert_exporter": "python",
   "pygments_lexer": "ipython3",
   "version": "3.12.2"
  }
 },
 "nbformat": 4,
 "nbformat_minor": 5
}
