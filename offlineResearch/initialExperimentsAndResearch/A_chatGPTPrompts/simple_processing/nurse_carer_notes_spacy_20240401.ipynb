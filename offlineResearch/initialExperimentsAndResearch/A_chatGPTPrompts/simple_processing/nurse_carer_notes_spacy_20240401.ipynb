{
 "cells": [
  {
   "cell_type": "markdown",
   "id": "26788865-60e6-400e-a83d-3a67218ef512",
   "metadata": {},
   "source": [
    "- from https://towardsdatascience.com/keyword-extraction-process-in-python-with-natural-language-processing-nlp-d769a9069d5c"
   ]
  },
  {
   "cell_type": "code",
   "execution_count": 1,
   "id": "97fed479-bc6e-4bd7-b748-9b770646bc95",
   "metadata": {},
   "outputs": [],
   "source": [
    "import spacy\n",
    "import pandas as pd"
   ]
  },
  {
   "cell_type": "code",
   "execution_count": 2,
   "id": "37e32714-9d38-43c8-a8e6-24697c3d7f0e",
   "metadata": {},
   "outputs": [],
   "source": [
    "data = pd.read_csv(\"nursing_home_data.csv\")"
   ]
  },
  {
   "cell_type": "code",
   "execution_count": 3,
   "id": "4f718c0d-7dbd-4176-8338-78b4f0a8d587",
   "metadata": {},
   "outputs": [],
   "source": [
    "# get all nurse notes data\n",
    "nurse_notes = \"\"\n",
    "carer_notes = \"\"\n",
    "for i in range(len(data['Nurse Notes'])):\n",
    "    nurse_notes += data['Nurse Notes'][i]\n",
    "    carer_notes += data['Carer Notes'][i]"
   ]
  },
  {
   "cell_type": "code",
   "execution_count": 5,
   "id": "01aa00ff-e6a4-49b5-99bc-752461ef6eb9",
   "metadata": {},
   "outputs": [
    {
     "name": "stdout",
     "output_type": "stream",
     "text": [
      "[Assisted Sarah, exercises, positive, exercises session, Caoimhe, therapy, session, exercises, negative, exercises, Assisted Sarah, exercises, negative, exercises session, positive, Caoimhe, music, therapy, session, negative, breakfast session, positive, music therapy, positive, Assisted Sarah, breakfast, negative, exercises session, positive, Caoimhe, exercises session, music therapy, music, therapy, session, Assisted Sarah, exercises, negative, breakfast, negative, Assisted Caoimhe, breakfast, therapy, session, positive, exercises, positive]\n"
     ]
    }
   ],
   "source": [
    "# extract named entities from text\n",
    "nlp = spacy.load(\"en_core_sci_lg\")\n",
    "doc = nlp(nurse_notes)\n",
    "print(list(doc.ents))"
   ]
  },
  {
   "cell_type": "code",
   "execution_count": null,
   "id": "1b1a4768-bc0b-4ecd-945b-49d78eef8569",
   "metadata": {},
   "outputs": [],
   "source": []
  }
 ],
 "metadata": {
  "kernelspec": {
   "display_name": "Python 3 (ipykernel)",
   "language": "python",
   "name": "python3"
  },
  "language_info": {
   "codemirror_mode": {
    "name": "ipython",
    "version": 3
   },
   "file_extension": ".py",
   "mimetype": "text/x-python",
   "name": "python",
   "nbconvert_exporter": "python",
   "pygments_lexer": "ipython3",
   "version": "3.12.2"
  }
 },
 "nbformat": 4,
 "nbformat_minor": 5
}
