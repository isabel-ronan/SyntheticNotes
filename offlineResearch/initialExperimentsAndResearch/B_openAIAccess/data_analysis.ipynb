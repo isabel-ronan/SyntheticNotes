{
 "cells": [
  {
   "cell_type": "code",
   "execution_count": 111,
   "metadata": {},
   "outputs": [],
   "source": [
    "import pandas as pd\n",
    "import re \n",
    "import nltk\n",
    "from nltk.corpus import stopwords\n",
    "from nltk.stem import WordNetLemmatizer\n",
    "from nltk import word_tokenize, pos_tag\n",
    "from collections import Counter\n",
    "from names_dataset import NameDataset\n"
   ]
  },
  {
   "cell_type": "code",
   "execution_count": 53,
   "metadata": {},
   "outputs": [
    {
     "name": "stderr",
     "output_type": "stream",
     "text": [
      "[nltk_data] Downloading package punkt to /Users/isabel/nltk_data...\n",
      "[nltk_data]   Package punkt is already up-to-date!\n",
      "[nltk_data] Downloading package averaged_perceptron_tagger to\n",
      "[nltk_data]     /Users/isabel/nltk_data...\n",
      "[nltk_data]   Package averaged_perceptron_tagger is already up-to-\n",
      "[nltk_data]       date!\n",
      "[nltk_data] Downloading package maxent_ne_chunker to\n",
      "[nltk_data]     /Users/isabel/nltk_data...\n",
      "[nltk_data]   Package maxent_ne_chunker is already up-to-date!\n",
      "[nltk_data] Downloading package words to /Users/isabel/nltk_data...\n",
      "[nltk_data]   Package words is already up-to-date!\n"
     ]
    },
    {
     "data": {
      "text/plain": [
       "True"
      ]
     },
     "execution_count": 53,
     "metadata": {},
     "output_type": "execute_result"
    }
   ],
   "source": [
    "nltk.download('punkt')\n",
    "nltk.download('averaged_perceptron_tagger')\n",
    "nltk.download('maxent_ne_chunker')\n",
    "nltk.download('words')"
   ]
  },
  {
   "cell_type": "code",
   "execution_count": 112,
   "metadata": {},
   "outputs": [],
   "source": [
    "nd = NameDataset()"
   ]
  },
  {
   "cell_type": "code",
   "execution_count": 113,
   "metadata": {},
   "outputs": [],
   "source": [
    "met_df = pd.read_csv('./0_met.csv')\n",
    "unmet_df = pd.read_csv('./0_unmet.csv')"
   ]
  },
  {
   "cell_type": "code",
   "execution_count": 150,
   "metadata": {},
   "outputs": [],
   "source": [
    "def word_cleaner(dataframe):\n",
    "    # clean text to standardize (leave puncuation in as there is meaning between sentences)\n",
    "    lemmatizer = WordNetLemmatizer()\n",
    "    for index, row in dataframe.iterrows():\n",
    "        r = re.sub('^a-zA-Z', ' ', row['report'])\n",
    "        r = r.lower()\n",
    "        r = r.split()\n",
    "        r = [word for word in r if word not in stopwords.words('english')]\n",
    "        r = [lemmatizer.lemmatize(word) for word in r]\n",
    "        r = ' '.join(r)\n",
    "        r = re.sub(r'[^\\w\\s/]', '', r)\n",
    "        r = re.sub(r'\\d+', '', r)\n",
    "        r = r.strip()\n",
    "        dataframe.loc[index] = {'report': r, 'needs': row['needs']}\n",
    "    return dataframe\n",
    "        "
   ]
  },
  {
   "cell_type": "code",
   "execution_count": 151,
   "metadata": {},
   "outputs": [],
   "source": [
    "met_notes_cleaned = word_cleaner(met_df)\n",
    "unmet_notes_cleaned = word_cleaner(unmet_df)\n"
   ]
  },
  {
   "cell_type": "code",
   "execution_count": 152,
   "metadata": {},
   "outputs": [
    {
     "data": {
      "text/html": [
       "<div>\n",
       "<style scoped>\n",
       "    .dataframe tbody tr th:only-of-type {\n",
       "        vertical-align: middle;\n",
       "    }\n",
       "\n",
       "    .dataframe tbody tr th {\n",
       "        vertical-align: top;\n",
       "    }\n",
       "\n",
       "    .dataframe thead th {\n",
       "        text-align: right;\n",
       "    }\n",
       "</style>\n",
       "<table border=\"1\" class=\"dataframe\">\n",
       "  <thead>\n",
       "    <tr style=\"text-align: right;\">\n",
       "      <th></th>\n",
       "      <th>report</th>\n",
       "      <th>needs</th>\n",
       "    </tr>\n",
       "  </thead>\n",
       "  <tbody>\n",
       "    <tr>\n",
       "      <th>0</th>\n",
       "      <td>peter encouraged use walker today appeared sli...</td>\n",
       "      <td>met</td>\n",
       "    </tr>\n",
       "    <tr>\n",
       "      <th>1</th>\n",
       "      <td>susan assistance dressing brushing teeth ate h...</td>\n",
       "      <td>met</td>\n",
       "    </tr>\n",
       "    <tr>\n",
       "      <th>2</th>\n",
       "      <td>mark slept well last night displayed restlessn...</td>\n",
       "      <td>met</td>\n",
       "    </tr>\n",
       "    <tr>\n",
       "      <th>3</th>\n",
       "      <td>anna required help dental prosthesis getting r...</td>\n",
       "      <td>met</td>\n",
       "    </tr>\n",
       "    <tr>\n",
       "      <th>4</th>\n",
       "      <td>emma assisted shower nail trim ate breakfast h...</td>\n",
       "      <td>met</td>\n",
       "    </tr>\n",
       "    <tr>\n",
       "      <th>...</th>\n",
       "      <td>...</td>\n",
       "      <td>...</td>\n",
       "    </tr>\n",
       "    <tr>\n",
       "      <th>623</th>\n",
       "      <td>david needed reminder drink fluid throughout d...</td>\n",
       "      <td>met</td>\n",
       "    </tr>\n",
       "    <tr>\n",
       "      <th>624</th>\n",
       "      <td>eleanor participated armchair exercise session...</td>\n",
       "      <td>met</td>\n",
       "    </tr>\n",
       "    <tr>\n",
       "      <th>625</th>\n",
       "      <td>frank noticed slightly long nail needed trimmi...</td>\n",
       "      <td>met</td>\n",
       "    </tr>\n",
       "    <tr>\n",
       "      <th>626</th>\n",
       "      <td>gloria reported mild abdominal pain evening ev...</td>\n",
       "      <td>met</td>\n",
       "    </tr>\n",
       "    <tr>\n",
       "      <th>627</th>\n",
       "      <td>henry required assistance transfer lifting tod...</td>\n",
       "      <td>met</td>\n",
       "    </tr>\n",
       "  </tbody>\n",
       "</table>\n",
       "<p>628 rows × 2 columns</p>\n",
       "</div>"
      ],
      "text/plain": [
       "                                                report needs\n",
       "0    peter encouraged use walker today appeared sli...   met\n",
       "1    susan assistance dressing brushing teeth ate h...   met\n",
       "2    mark slept well last night displayed restlessn...   met\n",
       "3    anna required help dental prosthesis getting r...   met\n",
       "4    emma assisted shower nail trim ate breakfast h...   met\n",
       "..                                                 ...   ...\n",
       "623  david needed reminder drink fluid throughout d...   met\n",
       "624  eleanor participated armchair exercise session...   met\n",
       "625  frank noticed slightly long nail needed trimmi...   met\n",
       "626  gloria reported mild abdominal pain evening ev...   met\n",
       "627  henry required assistance transfer lifting tod...   met\n",
       "\n",
       "[628 rows x 2 columns]"
      ]
     },
     "execution_count": 152,
     "metadata": {},
     "output_type": "execute_result"
    }
   ],
   "source": [
    "met_notes_cleaned"
   ]
  },
  {
   "cell_type": "code",
   "execution_count": 153,
   "metadata": {},
   "outputs": [
    {
     "data": {
      "text/html": [
       "<div>\n",
       "<style scoped>\n",
       "    .dataframe tbody tr th:only-of-type {\n",
       "        vertical-align: middle;\n",
       "    }\n",
       "\n",
       "    .dataframe tbody tr th {\n",
       "        vertical-align: top;\n",
       "    }\n",
       "\n",
       "    .dataframe thead th {\n",
       "        text-align: right;\n",
       "    }\n",
       "</style>\n",
       "<table border=\"1\" class=\"dataframe\">\n",
       "  <thead>\n",
       "    <tr style=\"text-align: right;\">\n",
       "      <th></th>\n",
       "      <th>report</th>\n",
       "      <th>needs</th>\n",
       "    </tr>\n",
       "  </thead>\n",
       "  <tbody>\n",
       "    <tr>\n",
       "      <th>0</th>\n",
       "      <td>resident displayed sign discomfort throughout ...</td>\n",
       "      <td>unmet</td>\n",
       "    </tr>\n",
       "    <tr>\n",
       "      <th>1</th>\n",
       "      <td>resident b required full assistance breakfast ...</td>\n",
       "      <td>unmet</td>\n",
       "    </tr>\n",
       "    <tr>\n",
       "      <th>2</th>\n",
       "      <td>resident c showed increased apathy confusion p...</td>\n",
       "      <td>unmet</td>\n",
       "    </tr>\n",
       "    <tr>\n",
       "      <th>3</th>\n",
       "      <td>resident seemed restless wandered hall multipl...</td>\n",
       "      <td>unmet</td>\n",
       "    </tr>\n",
       "    <tr>\n",
       "      <th>4</th>\n",
       "      <td>resident e needed help dressing brushing teeth...</td>\n",
       "      <td>unmet</td>\n",
       "    </tr>\n",
       "    <tr>\n",
       "      <th>...</th>\n",
       "      <td>...</td>\n",
       "      <td>...</td>\n",
       "    </tr>\n",
       "    <tr>\n",
       "      <th>605</th>\n",
       "      <td>mrs pearson required lot coaxing eat breakfast...</td>\n",
       "      <td>unmet</td>\n",
       "    </tr>\n",
       "    <tr>\n",
       "      <th>606</th>\n",
       "      <td>mr morrison enjoyed brief visit volunteer seem...</td>\n",
       "      <td>unmet</td>\n",
       "    </tr>\n",
       "    <tr>\n",
       "      <th>607</th>\n",
       "      <td>dorothy reported significant pain joints care ...</td>\n",
       "      <td>unmet</td>\n",
       "    </tr>\n",
       "    <tr>\n",
       "      <th>608</th>\n",
       "      <td>david needed support showering completed comfo...</td>\n",
       "      <td>unmet</td>\n",
       "    </tr>\n",
       "    <tr>\n",
       "      <th>609</th>\n",
       "      <td>roses denture cleaned today also received prom...</td>\n",
       "      <td>unmet</td>\n",
       "    </tr>\n",
       "  </tbody>\n",
       "</table>\n",
       "<p>610 rows × 2 columns</p>\n",
       "</div>"
      ],
      "text/plain": [
       "                                                report  needs\n",
       "0    resident displayed sign discomfort throughout ...  unmet\n",
       "1    resident b required full assistance breakfast ...  unmet\n",
       "2    resident c showed increased apathy confusion p...  unmet\n",
       "3    resident seemed restless wandered hall multipl...  unmet\n",
       "4    resident e needed help dressing brushing teeth...  unmet\n",
       "..                                                 ...    ...\n",
       "605  mrs pearson required lot coaxing eat breakfast...  unmet\n",
       "606  mr morrison enjoyed brief visit volunteer seem...  unmet\n",
       "607  dorothy reported significant pain joints care ...  unmet\n",
       "608  david needed support showering completed comfo...  unmet\n",
       "609  roses denture cleaned today also received prom...  unmet\n",
       "\n",
       "[610 rows x 2 columns]"
      ]
     },
     "execution_count": 153,
     "metadata": {},
     "output_type": "execute_result"
    }
   ],
   "source": [
    "unmet_notes_cleaned\n"
   ]
  },
  {
   "cell_type": "code",
   "execution_count": null,
   "metadata": {},
   "outputs": [],
   "source": []
  }
 ],
 "metadata": {
  "kernelspec": {
   "display_name": "nlp",
   "language": "python",
   "name": "python3"
  },
  "language_info": {
   "codemirror_mode": {
    "name": "ipython",
    "version": 3
   },
   "file_extension": ".py",
   "mimetype": "text/x-python",
   "name": "python",
   "nbconvert_exporter": "python",
   "pygments_lexer": "ipython3",
   "version": "3.12.4"
  }
 },
 "nbformat": 4,
 "nbformat_minor": 2
}
