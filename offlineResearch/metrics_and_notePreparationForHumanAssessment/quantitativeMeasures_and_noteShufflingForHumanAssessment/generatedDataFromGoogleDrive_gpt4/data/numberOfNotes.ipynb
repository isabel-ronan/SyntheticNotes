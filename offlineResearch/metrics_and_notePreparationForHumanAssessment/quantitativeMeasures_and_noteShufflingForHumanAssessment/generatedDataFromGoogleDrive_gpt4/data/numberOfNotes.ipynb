{
 "cells": [
  {
   "cell_type": "code",
   "execution_count": 1,
   "metadata": {},
   "outputs": [],
   "source": [
    "import pandas as pd\n",
    "import os"
   ]
  },
  {
   "cell_type": "code",
   "execution_count": 2,
   "metadata": {},
   "outputs": [
    {
     "name": "stdout",
     "output_type": "stream",
     "text": [
      "Note 1 (Met): 628\n",
      "Note 6 (Unmet): 610\n",
      "Note 2 (Met): 610\n",
      "Note 7 (Unmet): 643\n",
      "Note 3 (Met): 637\n",
      "Note 8 (Unmet): 642\n",
      "Note 4 (Met): 636\n",
      "Note 9 (Unmet): 640\n",
      "Note 5 (Met): 587\n",
      "Note 10 (Unmet): 620\n"
     ]
    }
   ],
   "source": [
    "count = 1\n",
    "for file in sorted(os.listdir('./')):\n",
    "    if \".csv\" in file:\n",
    "        if \"unmet\" in file:\n",
    "            print(f\"Note {count + 4} (Unmet): {len(pd.read_csv(file)['report'])}\")\n",
    "        else:\n",
    "            print(f\"Note {count} (Met): {len(pd.read_csv(file)['report'])}\")\n",
    "            count += 1\n"
   ]
  },
  {
   "cell_type": "code",
   "execution_count": null,
   "metadata": {},
   "outputs": [],
   "source": []
  }
 ],
 "metadata": {
  "kernelspec": {
   "display_name": "nlp_metrics",
   "language": "python",
   "name": "python3"
  },
  "language_info": {
   "codemirror_mode": {
    "name": "ipython",
    "version": 3
   },
   "file_extension": ".py",
   "mimetype": "text/x-python",
   "name": "python",
   "nbconvert_exporter": "python",
   "pygments_lexer": "ipython3",
   "version": "3.12.4"
  }
 },
 "nbformat": 4,
 "nbformat_minor": 2
}
