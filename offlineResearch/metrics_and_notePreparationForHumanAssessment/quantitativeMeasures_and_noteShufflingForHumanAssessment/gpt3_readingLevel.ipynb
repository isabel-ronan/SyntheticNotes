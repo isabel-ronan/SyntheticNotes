{
 "cells": [
  {
   "cell_type": "code",
   "execution_count": 1,
   "metadata": {},
   "outputs": [],
   "source": [
    "import pandas as pd\n",
    "import os\n",
    "import readability"
   ]
  },
  {
   "cell_type": "code",
   "execution_count": 3,
   "metadata": {},
   "outputs": [],
   "source": [
    "# load all files from data folder (generated in Google Colab)\n",
    "dfs = []\n",
    "for file in os.listdir('./generatedDataFromGoogleDrive_gpt3/data/'):\n",
    "    if '.csv' in file:\n",
    "        temp = pd.read_csv(f'./generatedDataFromGoogleDrive_gpt3/data/{file}')\n",
    "        dfs.append(temp)"
   ]
  },
  {
   "cell_type": "code",
   "execution_count": 4,
   "metadata": {},
   "outputs": [
    {
     "name": "stdout",
     "output_type": "stream",
     "text": [
      "5783\n"
     ]
    }
   ],
   "source": [
    "# put all dfs together\n",
    "all_dataframes = pd.concat(dfs)\n",
    "print(len(all_dataframes))"
   ]
  },
  {
   "cell_type": "code",
   "execution_count": 5,
   "metadata": {},
   "outputs": [
    {
     "data": {
      "text/html": [
       "<div>\n",
       "<style scoped>\n",
       "    .dataframe tbody tr th:only-of-type {\n",
       "        vertical-align: middle;\n",
       "    }\n",
       "\n",
       "    .dataframe tbody tr th {\n",
       "        vertical-align: top;\n",
       "    }\n",
       "\n",
       "    .dataframe thead th {\n",
       "        text-align: right;\n",
       "    }\n",
       "</style>\n",
       "<table border=\"1\" class=\"dataframe\">\n",
       "  <thead>\n",
       "    <tr style=\"text-align: right;\">\n",
       "      <th></th>\n",
       "      <th>report</th>\n",
       "      <th>needs</th>\n",
       "    </tr>\n",
       "  </thead>\n",
       "  <tbody>\n",
       "    <tr>\n",
       "      <th>0</th>\n",
       "      <td>- Alice had a peaceful night, but complained o...</td>\n",
       "      <td>met</td>\n",
       "    </tr>\n",
       "    <tr>\n",
       "      <th>1</th>\n",
       "      <td>- David is showing signs of agitation this aft...</td>\n",
       "      <td>met</td>\n",
       "    </tr>\n",
       "    <tr>\n",
       "      <th>2</th>\n",
       "      <td>- Sarah had a good night's sleep and is in goo...</td>\n",
       "      <td>met</td>\n",
       "    </tr>\n",
       "    <tr>\n",
       "      <th>3</th>\n",
       "      <td>- Michael has been experiencing difficulty bre...</td>\n",
       "      <td>met</td>\n",
       "    </tr>\n",
       "    <tr>\n",
       "      <th>4</th>\n",
       "      <td>- Emily's family came to visit her today, and ...</td>\n",
       "      <td>met</td>\n",
       "    </tr>\n",
       "    <tr>\n",
       "      <th>...</th>\n",
       "      <td>...</td>\n",
       "      <td>...</td>\n",
       "    </tr>\n",
       "    <tr>\n",
       "      <th>566</th>\n",
       "      <td>21. Harper showed signs of confusion and disor...</td>\n",
       "      <td>unmet</td>\n",
       "    </tr>\n",
       "    <tr>\n",
       "      <th>567</th>\n",
       "      <td>22. Benjamin experienced a fall incident while...</td>\n",
       "      <td>unmet</td>\n",
       "    </tr>\n",
       "    <tr>\n",
       "      <th>568</th>\n",
       "      <td>23. Nora has been complaining of severe abdomi...</td>\n",
       "      <td>unmet</td>\n",
       "    </tr>\n",
       "    <tr>\n",
       "      <th>569</th>\n",
       "      <td>24. Mason was found lying in bed with a pressu...</td>\n",
       "      <td>unmet</td>\n",
       "    </tr>\n",
       "    <tr>\n",
       "      <th>570</th>\n",
       "      <td>25. Scarlett exhibited signs of increasing apa...</td>\n",
       "      <td>unmet</td>\n",
       "    </tr>\n",
       "  </tbody>\n",
       "</table>\n",
       "<p>5783 rows × 2 columns</p>\n",
       "</div>"
      ],
      "text/plain": [
       "                                                report  needs\n",
       "0    - Alice had a peaceful night, but complained o...    met\n",
       "1    - David is showing signs of agitation this aft...    met\n",
       "2    - Sarah had a good night's sleep and is in goo...    met\n",
       "3    - Michael has been experiencing difficulty bre...    met\n",
       "4    - Emily's family came to visit her today, and ...    met\n",
       "..                                                 ...    ...\n",
       "566  21. Harper showed signs of confusion and disor...  unmet\n",
       "567  22. Benjamin experienced a fall incident while...  unmet\n",
       "568  23. Nora has been complaining of severe abdomi...  unmet\n",
       "569  24. Mason was found lying in bed with a pressu...  unmet\n",
       "570  25. Scarlett exhibited signs of increasing apa...  unmet\n",
       "\n",
       "[5783 rows x 2 columns]"
      ]
     },
     "execution_count": 5,
     "metadata": {},
     "output_type": "execute_result"
    }
   ],
   "source": [
    "all_dataframes"
   ]
  },
  {
   "cell_type": "code",
   "execution_count": 7,
   "metadata": {},
   "outputs": [
    {
     "name": "stdout",
     "output_type": "stream",
     "text": [
      "SMOG: 10.289369751946804, indicating 10th grade reading level (similar to findings in literature).\n"
     ]
    }
   ],
   "source": [
    "# readability - gpt3\n",
    "long_text = \"\"\n",
    "for report in all_dataframes['report']:\n",
    "    report = report.replace('.', '.\\n')\n",
    "    long_text += report + '\\n'\n",
    "\n",
    "results = readability.getmeasures(long_text, lang='en')\n",
    "# SMOG used for health - sixth grade level is good for most health documents\n",
    "# https://www.tandfonline.com/doi/abs/10.1080/19325037.2008.10599016 \n",
    "# https://www.rcpe.ac.uk/journal/issue/journal_40_4/fitzsimmons.pdf \n",
    "print(f'SMOG: {results['readability grades']['SMOGIndex']}, indicating 10th grade reading level (similar to findings in literature).')\n",
    "# 10.32 result is similar to the findings of nursing ICU notes in https://www.ncbi.nlm.nih.gov/pmc/articles/PMC6568110/\n"
   ]
  },
  {
   "cell_type": "code",
   "execution_count": null,
   "metadata": {},
   "outputs": [],
   "source": []
  }
 ],
 "metadata": {
  "kernelspec": {
   "display_name": "nlp",
   "language": "python",
   "name": "python3"
  },
  "language_info": {
   "codemirror_mode": {
    "name": "ipython",
    "version": 3
   },
   "file_extension": ".py",
   "mimetype": "text/x-python",
   "name": "python",
   "nbconvert_exporter": "python",
   "pygments_lexer": "ipython3",
   "version": "3.12.4"
  }
 },
 "nbformat": 4,
 "nbformat_minor": 2
}
