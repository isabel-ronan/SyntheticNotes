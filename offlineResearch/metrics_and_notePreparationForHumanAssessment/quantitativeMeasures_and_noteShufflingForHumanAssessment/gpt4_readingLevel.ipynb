{
 "cells": [
  {
   "cell_type": "code",
   "execution_count": 1,
   "metadata": {},
   "outputs": [],
   "source": [
    "import pandas as pd\n",
    "import os\n",
    "import readability"
   ]
  },
  {
   "cell_type": "code",
   "execution_count": 2,
   "metadata": {},
   "outputs": [],
   "source": [
    "# load all files from data folder (generated in Google Colab)\n",
    "dfs = []\n",
    "for file in os.listdir('./generatedDataFromGoogleDrive_gpt4/data/'):\n",
    "    if '.csv' in file:\n",
    "        temp = pd.read_csv(f'./generatedDataFromGoogleDrive_gpt4/data/{file}')\n",
    "        dfs.append(temp)"
   ]
  },
  {
   "cell_type": "code",
   "execution_count": 3,
   "metadata": {},
   "outputs": [
    {
     "name": "stdout",
     "output_type": "stream",
     "text": [
      "6253\n"
     ]
    }
   ],
   "source": [
    "# put all dfs together\n",
    "all_dataframes = pd.concat(dfs)\n",
    "print(len(all_dataframes))"
   ]
  },
  {
   "cell_type": "code",
   "execution_count": 4,
   "metadata": {},
   "outputs": [
    {
     "data": {
      "text/html": [
       "<div>\n",
       "<style scoped>\n",
       "    .dataframe tbody tr th:only-of-type {\n",
       "        vertical-align: middle;\n",
       "    }\n",
       "\n",
       "    .dataframe tbody tr th {\n",
       "        vertical-align: top;\n",
       "    }\n",
       "\n",
       "    .dataframe thead th {\n",
       "        text-align: right;\n",
       "    }\n",
       "</style>\n",
       "<table border=\"1\" class=\"dataframe\">\n",
       "  <thead>\n",
       "    <tr style=\"text-align: right;\">\n",
       "      <th></th>\n",
       "      <th>report</th>\n",
       "      <th>needs</th>\n",
       "    </tr>\n",
       "  </thead>\n",
       "  <tbody>\n",
       "    <tr>\n",
       "      <th>0</th>\n",
       "      <td>Peter was encouraged to use his walker today...</td>\n",
       "      <td>met</td>\n",
       "    </tr>\n",
       "    <tr>\n",
       "      <th>1</th>\n",
       "      <td>Susan had assistance dressing and brushing t...</td>\n",
       "      <td>met</td>\n",
       "    </tr>\n",
       "    <tr>\n",
       "      <th>2</th>\n",
       "      <td>Mark slept well last night but displayed res...</td>\n",
       "      <td>met</td>\n",
       "    </tr>\n",
       "    <tr>\n",
       "      <th>3</th>\n",
       "      <td>Anna required help with her dental prosthese...</td>\n",
       "      <td>met</td>\n",
       "    </tr>\n",
       "    <tr>\n",
       "      <th>4</th>\n",
       "      <td>Emma was assisted with a shower and had a na...</td>\n",
       "      <td>met</td>\n",
       "    </tr>\n",
       "    <tr>\n",
       "      <th>...</th>\n",
       "      <td>...</td>\n",
       "      <td>...</td>\n",
       "    </tr>\n",
       "    <tr>\n",
       "      <th>638</th>\n",
       "      <td>Matthew's daughter requested a detailed review...</td>\n",
       "      <td>unmet</td>\n",
       "    </tr>\n",
       "    <tr>\n",
       "      <th>639</th>\n",
       "      <td>Alice showed signs of distress and restlessnes...</td>\n",
       "      <td>unmet</td>\n",
       "    </tr>\n",
       "    <tr>\n",
       "      <th>640</th>\n",
       "      <td>Paul was found lying crookedly in his bed and ...</td>\n",
       "      <td>unmet</td>\n",
       "    </tr>\n",
       "    <tr>\n",
       "      <th>641</th>\n",
       "      <td>Emily's dental prostheses needed cleaning and ...</td>\n",
       "      <td>unmet</td>\n",
       "    </tr>\n",
       "    <tr>\n",
       "      <th>642</th>\n",
       "      <td>Nicholas participated in browsing a magazine b...</td>\n",
       "      <td>unmet</td>\n",
       "    </tr>\n",
       "  </tbody>\n",
       "</table>\n",
       "<p>6253 rows × 2 columns</p>\n",
       "</div>"
      ],
      "text/plain": [
       "                                                report  needs\n",
       "0      Peter was encouraged to use his walker today...    met\n",
       "1      Susan had assistance dressing and brushing t...    met\n",
       "2      Mark slept well last night but displayed res...    met\n",
       "3      Anna required help with her dental prosthese...    met\n",
       "4      Emma was assisted with a shower and had a na...    met\n",
       "..                                                 ...    ...\n",
       "638  Matthew's daughter requested a detailed review...  unmet\n",
       "639  Alice showed signs of distress and restlessnes...  unmet\n",
       "640  Paul was found lying crookedly in his bed and ...  unmet\n",
       "641  Emily's dental prostheses needed cleaning and ...  unmet\n",
       "642  Nicholas participated in browsing a magazine b...  unmet\n",
       "\n",
       "[6253 rows x 2 columns]"
      ]
     },
     "execution_count": 4,
     "metadata": {},
     "output_type": "execute_result"
    }
   ],
   "source": [
    "all_dataframes"
   ]
  },
  {
   "cell_type": "code",
   "execution_count": 5,
   "metadata": {},
   "outputs": [
    {
     "name": "stdout",
     "output_type": "stream",
     "text": [
      "SMOG: 10.687247985955267, indicating 10th grade reading level (similar to findings in literature).\n"
     ]
    }
   ],
   "source": [
    "# readability - gpt3\n",
    "long_text = \"\"\n",
    "for report in all_dataframes['report']:\n",
    "    report = report.replace('.', '.\\n')\n",
    "    long_text += report + '\\n'\n",
    "\n",
    "results = readability.getmeasures(long_text, lang='en')\n",
    "# SMOG used for health - sixth grade level is good for most health documents\n",
    "# https://www.tandfonline.com/doi/abs/10.1080/19325037.2008.10599016 \n",
    "# https://www.rcpe.ac.uk/journal/issue/journal_40_4/fitzsimmons.pdf \n",
    "print(f'SMOG: {results['readability grades']['SMOGIndex']}, indicating 10th grade reading level (similar to findings in literature).')\n",
    "# 10.32 result is similar to the findings of nursing ICU notes in https://www.ncbi.nlm.nih.gov/pmc/articles/PMC6568110/\n"
   ]
  },
  {
   "cell_type": "code",
   "execution_count": null,
   "metadata": {},
   "outputs": [],
   "source": []
  }
 ],
 "metadata": {
  "kernelspec": {
   "display_name": "nlp",
   "language": "python",
   "name": "python3"
  },
  "language_info": {
   "codemirror_mode": {
    "name": "ipython",
    "version": 3
   },
   "file_extension": ".py",
   "mimetype": "text/x-python",
   "name": "python",
   "nbconvert_exporter": "python",
   "pygments_lexer": "ipython3",
   "version": "3.12.4"
  }
 },
 "nbformat": 4,
 "nbformat_minor": 2
}
