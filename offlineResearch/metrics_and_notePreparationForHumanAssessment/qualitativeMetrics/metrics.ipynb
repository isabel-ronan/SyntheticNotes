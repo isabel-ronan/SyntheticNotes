{
 "cells": [
  {
   "cell_type": "code",
   "execution_count": 2,
   "metadata": {},
   "outputs": [],
   "source": [
    "import pandas as pd\n",
    "import readability"
   ]
  },
  {
   "cell_type": "code",
   "execution_count": 5,
   "metadata": {},
   "outputs": [
    {
     "name": "stderr",
     "output_type": "stream",
     "text": [
      "/Users/isabel/anaconda3/envs/nlp_metrics/lib/python3.12/site-packages/openpyxl/worksheet/_reader.py:329: UserWarning: Data Validation extension is not supported and will be removed\n",
      "  warn(msg)\n",
      "/Users/isabel/anaconda3/envs/nlp_metrics/lib/python3.12/site-packages/openpyxl/worksheet/_reader.py:329: UserWarning: Data Validation extension is not supported and will be removed\n",
      "  warn(msg)\n"
     ]
    }
   ],
   "source": [
    "# gpt3 notes\n",
    "nurse_gpt3_df = pd.read_excel('./excel_sheets/nurse_labelled_notes_gpt3.xlsx')\n",
    "nurse_gpt3_df = nurse_gpt3_df.rename(columns={'report': 'nurse_reports', 'needs' : 'nurse_labels'})\n",
    "gpt3_df = pd.read_excel('./excel_sheets/gpt3_labelled_notes.xlsx')\n",
    "gpt3_df = gpt3_df.rename(columns={'report': 'gpt_reports', 'needs' : 'gpt_labels'})\n",
    "\n",
    "# gpt4 notes\n",
    "nurse_gpt4_df = pd.read_excel('./excel_sheets/nurse_labelled_notes_gpt4.xlsx')\n",
    "nurse_gpt4_df = nurse_gpt4_df.rename(columns={'report': 'nurse_reports', 'needs' : 'nurse_labels'})\n",
    "gpt4_df = pd.read_excel('./excel_sheets/gpt4_labelled_notes.xlsx')\n",
    "gpt4_df = gpt4_df.rename(columns={'report': 'gpt_reports', 'needs' : 'gpt_labels'})"
   ]
  },
  {
   "cell_type": "code",
   "execution_count": 9,
   "metadata": {},
   "outputs": [
    {
     "name": "stdout",
     "output_type": "stream",
     "text": [
      "SMOG: 10.324724656243554, indicating 10th grade reading level (similar to findings in literature).\n"
     ]
    }
   ],
   "source": [
    "# readability - gpt3\n",
    "long_text = \"\"\n",
    "for report in gpt3_df['gpt_reports']:\n",
    "    report = report.replace('.', '.\\n')\n",
    "    long_text += report + '\\n'\n",
    "\n",
    "results = readability.getmeasures(long_text, lang='en')\n",
    "# SMOG used for health - sixth grade level is good for most health documents\n",
    "# https://www.tandfonline.com/doi/abs/10.1080/19325037.2008.10599016 \n",
    "# https://www.rcpe.ac.uk/journal/issue/journal_40_4/fitzsimmons.pdf \n",
    "print(f'SMOG: {results['readability grades']['SMOGIndex']}, indicating 10th grade reading level (similar to findings in literature).')\n",
    "# 10.32 result is similar to the findings of nursing ICU notes in https://www.ncbi.nlm.nih.gov/pmc/articles/PMC6568110/\n"
   ]
  },
  {
   "cell_type": "code",
   "execution_count": 10,
   "metadata": {},
   "outputs": [
    {
     "name": "stdout",
     "output_type": "stream",
     "text": [
      "SMOG: 10.825548597434015, indicating 10th grade reading level (similar to findings in literature).\n"
     ]
    }
   ],
   "source": [
    "# readability - gpt4\n",
    "long_text = \"\"\n",
    "for report in gpt4_df['gpt_reports']:\n",
    "    report = report.replace('.', '.\\n')\n",
    "    long_text += report + '\\n'\n",
    "\n",
    "results = readability.getmeasures(long_text, lang='en')\n",
    "# SMOG used for health - https://www.tandfonline.com/doi/abs/10.1080/19325037.2008.10599016 - sixth grade level is good for most health documents\n",
    "print(f'SMOG: {results['readability grades']['SMOGIndex']}, indicating 10th grade reading level (similar to findings in literature).')\n",
    "# 10.83 result is similar to the findings of nursing ICU notes in https://www.ncbi.nlm.nih.gov/pmc/articles/PMC6568110/\n"
   ]
  }
 ],
 "metadata": {
  "kernelspec": {
   "display_name": "nlp",
   "language": "python",
   "name": "python3"
  },
  "language_info": {
   "codemirror_mode": {
    "name": "ipython",
    "version": 3
   },
   "file_extension": ".py",
   "mimetype": "text/x-python",
   "name": "python",
   "nbconvert_exporter": "python",
   "pygments_lexer": "ipython3",
   "version": "3.12.6"
  }
 },
 "nbformat": 4,
 "nbformat_minor": 2
}
