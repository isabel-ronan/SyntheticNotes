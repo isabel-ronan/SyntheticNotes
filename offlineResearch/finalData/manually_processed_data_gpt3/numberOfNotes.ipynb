{
 "cells": [
  {
   "cell_type": "code",
   "execution_count": 1,
   "metadata": {},
   "outputs": [],
   "source": [
    "import pandas as pd\n",
    "import os"
   ]
  },
  {
   "cell_type": "code",
   "execution_count": 2,
   "metadata": {},
   "outputs": [
    {
     "name": "stdout",
     "output_type": "stream",
     "text": [
      "Note 1 (Met): 592\n",
      "Note 6 (Unmet): 578\n",
      "Note 2 (Met): 573\n",
      "Note 7 (Unmet): 569\n",
      "Note 3 (Met): 575\n",
      "Note 8 (Unmet): 552\n",
      "Note 4 (Met): 569\n",
      "Note 9 (Unmet): 597\n",
      "Note 5 (Met): 588\n",
      "Note 10 (Unmet): 577\n"
     ]
    }
   ],
   "source": [
    "count = 1\n",
    "for file in sorted(os.listdir('./')):\n",
    "    if \".csv\" in file:\n",
    "        if \"unmet\" in file:\n",
    "            print(f\"Note {count + 4} (Unmet): {len(pd.read_csv(file)['report'])}\")\n",
    "        else:\n",
    "            print(f\"Note {count} (Met): {len(pd.read_csv(file)['report'])}\")\n",
    "            count += 1\n"
   ]
  },
  {
   "cell_type": "code",
   "execution_count": 6,
   "metadata": {},
   "outputs": [
    {
     "name": "stdout",
     "output_type": "stream",
     "text": [
      "Note 592 (Met): 592\n",
      "Note 1174 (Unmet): 578\n",
      "Note 1743 (Met): 573\n",
      "Note 2316 (Unmet): 569\n",
      "Note 2887 (Met): 575\n",
      "Note 3443 (Unmet): 552\n",
      "Note 4008 (Met): 569\n",
      "Note 4609 (Unmet): 597\n",
      "Note 5193 (Met): 588\n",
      "Note 5774 (Unmet): 577\n",
      "Total: 5770\n"
     ]
    }
   ],
   "source": [
    "count = 0\n",
    "for file in sorted(os.listdir('./')):\n",
    "    if \".csv\" in file:\n",
    "        count += len(pd.read_csv(file)['report'])\n",
    "        if \"unmet\" in file:\n",
    "            print(f\"Note {count + 4} (Unmet): {len(pd.read_csv(file)['report'])}\")\n",
    "        else:\n",
    "            print(f\"Note {count} (Met): {len(pd.read_csv(file)['report'])}\")\n",
    "\n",
    "print(f\"Total: {count}\")\n"
   ]
  },
  {
   "cell_type": "code",
   "execution_count": null,
   "metadata": {},
   "outputs": [],
   "source": []
  }
 ],
 "metadata": {
  "kernelspec": {
   "display_name": "nlp_metrics",
   "language": "python",
   "name": "python3"
  },
  "language_info": {
   "codemirror_mode": {
    "name": "ipython",
    "version": 3
   },
   "file_extension": ".py",
   "mimetype": "text/x-python",
   "name": "python",
   "nbconvert_exporter": "python",
   "pygments_lexer": "ipython3",
   "version": "3.12.4"
  }
 },
 "nbformat": 4,
 "nbformat_minor": 2
}
